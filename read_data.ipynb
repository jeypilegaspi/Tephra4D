{
 "cells": [
  {
   "cell_type": "markdown",
   "metadata": {},
   "source": []
  },
  {
   "cell_type": "code",
   "execution_count": null,
   "metadata": {},
   "outputs": [],
   "source": [
    "import netCDF4 as nc\n",
    "import pandas as pd\n",
    "from IPython import Display\n",
    "\n",
    "# Open the NetCDF file\n",
    "file_path = 'wrf_output_file.nc'  # Replace with the actual file path\n",
    "ds = nc.Dataset(file_path)\n",
    "\n",
    "# Print available variables in the NetCDF file\n",
    "print(\"Available variables:\", ds.variables.keys())\n",
    "\n",
    "# Select the variables you want to extract (e.g., temperature, longitude, latitude, time)\n",
    "# These variables depend on what your NetCDF file contains (e.g., 'T2' for temperature, 'XLAT' for latitude)\n",
    "ph = ds.variables['PH'][:]\n",
    "phb = ds.variables['PHB'][:]\n",
    "u = ds.variables['U'][:]\n",
    "v = ds.variables['V'][:]\n",
    "w = ds.variables['W'][:]\n",
    "latitude = ds.variables['XLAT'][:]   # Latitude\n",
    "longitude = ds.variables['XLONG'][:]  # Longitude\n",
    "qvapor = ds.variables['QVAPOR'][:]       # Time variable\n",
    "perturbation_pressure = ds.variables['P'][:]\n",
    "base_pressure = ds.variables['PB'][:]\n",
    "height = ds.variables['HGT'][:]\n",
    "\n",
    "# Convert NetCDF data into a pandas DataFrame (Flattened for easier reading)\n",
    "df = pd.DataFrame({\n",
    "    'Perturbation Geopotential Height': ph.flatten(),\n",
    "    'Base Geopotential Height': phb.flatten(),\n",
    "    'Zonal': u.flatten(),\n",
    "    'Meridional': v.flatten(),\n",
    "    'Vertical': w.flatten(),\n",
    "    'Latitude': latitude.flatten(),\n",
    "    'Longitude': longitude.flatten(),\n",
    "    'Water Vapor': qvapor.flatten(),\n",
    "    'Perturbation Pressure': perturbation_pressure.flatten(),\n",
    "    'Base State Pressure': base_pressure.flatten(),\n",
    "    'Geopotential Height': height.flatten()\n",
    "})\n",
    "# Save the DataFrame to a CSV file\n",
    "csv_output_path = 'wrf_data.csv'\n",
    "df.to_csv(csv_output_path, index=False)\n",
    "Display(df)\n",
    "print(f\"Data successfully extracted and saved to {csv_output_path}\")\n",
    "\n",
    "# Close the NetCDF file\n",
    "ds.close()\n"
   ]
  }
 ],
 "metadata": {
  "language_info": {
   "name": "python"
  }
 },
 "nbformat": 4,
 "nbformat_minor": 2
}
